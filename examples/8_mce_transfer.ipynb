{
 "cells": [
  {
   "cell_type": "markdown",
   "metadata": {},
   "source": [
    "# Learn a Reward Function using Maximum Conditional Entropy Inverse Reinforcement Learning\n",
    "\n",
    "MCE IRL only supports tabular environments."
   ]
  },
  {
   "cell_type": "markdown",
   "metadata": {},
   "source": [
    "The cliffworld environment, that we use here is a TabularEnvironment.\n",
    "It's observations consist of the POMDP's observations and the actual state.\n",
    "We later also need VecEnv objects that expose just the internal POMDP-state or just the POMDP-observation as its observation."
   ]
  },
  {
   "cell_type": "code",
   "execution_count": 1,
   "metadata": {},
   "outputs": [
    {
     "name": "stdout",
     "output_type": "stream",
     "text": [
      "<OrderEnforcing<CliffWorld<imitation/CliffWorld100x20-v0>>>\n"
     ]
    }
   ],
   "source": [
    "from imitation.algorithms.mce_irl import (\n",
    "    MCEIRL,\n",
    "    mce_occupancy_measures,\n",
    "    mce_partition_fh,\n",
    "    TabularPolicy,\n",
    ")\n",
    "import gym\n",
    "import numpy as np\n",
    "\n",
    "from imitation.data import rollout\n",
    "from imitation.envs import resettable_env\n",
    "from stable_baselines3.common.vec_env import DummyVecEnv\n",
    "from imitation.rewards import reward_nets\n",
    "from imitation.rewards.reward_wrapper import RewardVecEnvWrapper\n",
    "from imitation.envs.examples.model_envs import CliffWorld\n",
    "\n",
    "\n",
    "env_name = \"imitation/CliffWorld100x20-v0\"\n",
    "\n",
    "env : CliffWorld = gym.make(env_name)\n",
    "state_venv = resettable_env.DictExtractWrapper(\n",
    "    DummyVecEnv([lambda: gym.make(env_name)] * 4), \"state\"\n",
    ")\n",
    "obs_venv = resettable_env.DictExtractWrapper(\n",
    "    DummyVecEnv([lambda: gym.make(env_name)] * 4), \"obs\"\n",
    ")\n",
    "print(env)"
   ]
  },
  {
   "cell_type": "markdown",
   "metadata": {},
   "source": [
    "Then we derive an expert policy using Bellman backups. We analytically compute the occupancy measures, and also sample some expert trajectories."
   ]
  },
  {
   "cell_type": "code",
   "execution_count": 2,
   "metadata": {},
   "outputs": [
    {
     "name": "stdout",
     "output_type": "stream",
     "text": [
      "Expert stats:  {'n_traj': 48, 'return_min': -54.0, 'return_mean': 1.2916666666666667, 'return_std': 12.022476057599597, 'return_max': 11.0, 'len_min': 110, 'len_mean': 110.0, 'len_std': 0.0, 'len_max': 110}\n"
     ]
    }
   ],
   "source": [
    "_, _, pi = mce_partition_fh(env)\n",
    "\n",
    "_, om = mce_occupancy_measures(env, pi=pi)\n",
    "\n",
    "expert = TabularPolicy(\n",
    "    state_space=env.pomdp_state_space,\n",
    "    action_space=env.action_space,\n",
    "    pi=pi,\n",
    "    rng=None,\n",
    ")\n",
    "\n",
    "expert_trajs = rollout.generate_trajectories(\n",
    "    policy=expert,\n",
    "    venv=state_venv,\n",
    "    sample_until=rollout.make_min_timesteps(5000),\n",
    ")\n",
    "\n",
    "print(\"Expert stats: \", rollout.rollout_stats(expert_trajs))"
   ]
  },
  {
   "cell_type": "markdown",
   "metadata": {},
   "source": [
    "Finally, we set up the MCE algorithm and train it."
   ]
  },
  {
   "cell_type": "code",
   "execution_count": 3,
   "metadata": {},
   "outputs": [],
   "source": [
    "def train_mce_irl(demos, **kwargs):\n",
    "    reward_net = reward_nets.BasicRewardNet(\n",
    "        env.pomdp_observation_space,\n",
    "        env.action_space,\n",
    "        use_action=False,\n",
    "        use_next_state=False,\n",
    "        use_done=False,\n",
    "        hid_sizes=[],\n",
    "    )\n",
    "\n",
    "    mce_irl = MCEIRL(demos, env, reward_net, linf_eps=1e-3)\n",
    "    mce_irl.train(**kwargs)\n",
    "\n",
    "    imitation_trajs = rollout.generate_trajectories(\n",
    "        policy=mce_irl.policy,\n",
    "        venv=state_venv,\n",
    "        sample_until=rollout.make_min_timesteps(5000),\n",
    "    )\n",
    "    print(\"Imitation stats: \", rollout.rollout_stats(imitation_trajs))\n",
    "\n",
    "    return mce_irl"
   ]
  },
  {
   "cell_type": "code",
   "execution_count": 4,
   "metadata": {},
   "outputs": [
    {
     "data": {
      "image/png": "[encoded data removed]",
      "text/plain": [
       "<Figure size 432x288 with 2 Axes>"
      ]
     },
     "metadata": {
      "needs_background": "light"
     },
     "output_type": "display_data"
    }
   ],
   "source": [
    "env.draw_value_vec(om)"
   ]
  },
  {
   "cell_type": "markdown",
   "metadata": {},
   "source": [
    "First, we train it on the analytically computed occupancy measures. This should give a very precise result."
   ]
  },
  {
   "cell_type": "code",
   "execution_count": 5,
   "metadata": {},
   "outputs": [
    {
     "name": "stdout",
     "output_type": "stream",
     "text": [
      "--------------------------\n",
      "| grad_norm   | 20.3     |\n",
      "| iteration   | 0        |\n",
      "| linf_delta  | 11.1     |\n",
      "| weight_norm | 0.726    |\n",
      "--------------------------\n",
      "--------------------------\n",
      "| grad_norm   | 11.3     |\n",
      "| iteration   | 100      |\n",
      "| linf_delta  | 11.1     |\n",
      "| weight_norm | 19.1     |\n",
      "--------------------------\n",
      "--------------------------\n",
      "| grad_norm   | 9.33     |\n",
      "| iteration   | 200      |\n",
      "| linf_delta  | 9.3      |\n",
      "| weight_norm | 25.4     |\n",
      "--------------------------\n",
      "--------------------------\n",
      "| grad_norm   | 5.68     |\n",
      "| iteration   | 300      |\n",
      "| linf_delta  | 5.63     |\n",
      "| weight_norm | 29       |\n",
      "--------------------------\n",
      "--------------------------\n",
      "| grad_norm   | 2.81     |\n",
      "| iteration   | 400      |\n",
      "| linf_delta  | 2.76     |\n",
      "| weight_norm | 31.1     |\n",
      "--------------------------\n",
      "--------------------------\n",
      "| grad_norm   | 1.59     |\n",
      "| iteration   | 500      |\n",
      "| linf_delta  | 1.55     |\n",
      "| weight_norm | 32.3     |\n",
      "--------------------------\n",
      "--------------------------\n",
      "| grad_norm   | 1.05     |\n",
      "| iteration   | 600      |\n",
      "| linf_delta  | 1.02     |\n",
      "| weight_norm | 33.3     |\n",
      "--------------------------\n",
      "--------------------------\n",
      "| grad_norm   | 0.761    |\n",
      "| iteration   | 700      |\n",
      "| linf_delta  | 0.74     |\n",
      "| weight_norm | 34       |\n",
      "--------------------------\n",
      "--------------------------\n",
      "| grad_norm   | 0.587    |\n",
      "| iteration   | 800      |\n",
      "| linf_delta  | 0.57     |\n",
      "| weight_norm | 34.7     |\n",
      "--------------------------\n",
      "--------------------------\n",
      "| grad_norm   | 0.471    |\n",
      "| iteration   | 900      |\n",
      "| linf_delta  | 0.457    |\n",
      "| weight_norm | 35.4     |\n",
      "--------------------------\n",
      "Imitation stats:  {'n_traj': 48, 'return_min': -38.0, 'return_mean': -1.8333333333333333, 'return_std': 12.894335534989342, 'return_max': 11.0, 'len_min': 110, 'len_mean': 110.0, 'len_std': 0.0, 'len_max': 110}\n"
     ]
    }
   ],
   "source": [
    "mce_irl_from_om = train_mce_irl(np.nan_to_num(om, nan=0))"
   ]
  },
  {
   "cell_type": "code",
   "execution_count": 6,
   "metadata": {},
   "outputs": [
    {
     "data": {
      "image/png": "[encoded data removed]",
      "text/plain": [
       "<Figure size 432x288 with 2 Axes>"
      ]
     },
     "metadata": {
      "needs_background": "light"
     },
     "output_type": "display_data"
    }
   ],
   "source": [
    "r_pred_from_om = mce_irl_from_om.get_predicted_r()\n",
    "env.draw_value_vec(r_pred_from_om)"
   ]
  },
  {
   "cell_type": "markdown",
   "metadata": {},
   "source": [
    "Then we train it on trajectories sampled from the expert. This gives a stochastic approximation to occupancy measure, so performance is a little worse. Using more expert trajectories should improve performance -- try it!"
   ]
  },
  {
   "cell_type": "code",
   "execution_count": 7,
   "metadata": {},
   "outputs": [
    {
     "name": "stdout",
     "output_type": "stream",
     "text": [
      "--------------------------\n",
      "| grad_norm   | 20.2     |\n",
      "| iteration   | 0        |\n",
      "| linf_delta  | 11.5     |\n",
      "| weight_norm | 0.658    |\n",
      "--------------------------\n",
      "--------------------------\n",
      "| grad_norm   | 12       |\n",
      "| iteration   | 100      |\n",
      "| linf_delta  | 11.5     |\n",
      "| weight_norm | 35.4     |\n",
      "--------------------------\n",
      "--------------------------\n",
      "| grad_norm   | 10.7     |\n",
      "| iteration   | 200      |\n",
      "| linf_delta  | 10.5     |\n",
      "| weight_norm | 65.4     |\n",
      "--------------------------\n",
      "--------------------------\n",
      "| grad_norm   | 8.72     |\n",
      "| iteration   | 300      |\n",
      "| linf_delta  | 8.49     |\n",
      "| weight_norm | 89.2     |\n",
      "--------------------------\n",
      "--------------------------\n",
      "| grad_norm   | 6.53     |\n",
      "| iteration   | 400      |\n",
      "| linf_delta  | 6.25     |\n",
      "| weight_norm | 112      |\n",
      "--------------------------\n",
      "--------------------------\n",
      "| grad_norm   | 5.46     |\n",
      "| iteration   | 500      |\n",
      "| linf_delta  | 5.13     |\n",
      "| weight_norm | 134      |\n",
      "--------------------------\n",
      "--------------------------\n",
      "| grad_norm   | 5.01     |\n",
      "| iteration   | 600      |\n",
      "| linf_delta  | 4.66     |\n",
      "| weight_norm | 156      |\n",
      "--------------------------\n",
      "--------------------------\n",
      "| grad_norm   | 4.78     |\n",
      "| iteration   | 700      |\n",
      "| linf_delta  | 4.43     |\n",
      "| weight_norm | 179      |\n",
      "--------------------------\n",
      "--------------------------\n",
      "| grad_norm   | 4.65     |\n",
      "| iteration   | 800      |\n",
      "| linf_delta  | 4.3      |\n",
      "| weight_norm | 203      |\n",
      "--------------------------\n",
      "--------------------------\n",
      "| grad_norm   | 4.57     |\n",
      "| iteration   | 900      |\n",
      "| linf_delta  | 4.21     |\n",
      "| weight_norm | 226      |\n",
      "--------------------------\n",
      "Imitation stats:  {'n_traj': 48, 'return_min': -124.0, 'return_mean': -14.5625, 'return_std': 26.814879459297718, 'return_max': 11.0, 'len_min': 110, 'len_mean': 110.0, 'len_std': 0.0, 'len_max': 110}\n"
     ]
    }
   ],
   "source": [
    "mce_irl_from_trajs = train_mce_irl(expert_trajs[0:10])"
   ]
  },
  {
   "cell_type": "code",
   "execution_count": 8,
   "metadata": {},
   "outputs": [
    {
     "data": {
      "image/png": "[encoded data removed]",
      "text/plain": [
       "<Figure size 432x288 with 2 Axes>"
      ]
     },
     "metadata": {
      "needs_background": "light"
     },
     "output_type": "display_data"
    }
   ],
   "source": [
    "r_pred_from_trajs = mce_irl_from_trajs.get_predicted_r()\n",
    "env.draw_value_vec(r_pred_from_trajs)"
   ]
  },
  {
   "cell_type": "code",
   "execution_count": 9,
   "metadata": {},
   "outputs": [
    {
     "ename": "ValueError",
     "evalue": "could not broadcast input array from shape (2000,1) into shape (90,4)",
     "output_type": "error",
     "traceback": [
      "\u001b[0;31m---------------------------------------------------------------------------\u001b[0m",
      "\u001b[0;31mValueError\u001b[0m                                Traceback (most recent call last)",
      "\u001b[1;32m/home/lev/Projects/imitation/examples/8_mce_transfer.ipynb Cell 15'\u001b[0m in \u001b[0;36m<cell line: 10>\u001b[0;34m()\u001b[0m\n\u001b[1;32m      <a href='vscode-notebook-cell:/home/lev/Projects/imitation/examples/8_mce_transfer.ipynb#ch0000014?line=4'>5</a>\u001b[0m test_env \u001b[39m=\u001b[39m gym\u001b[39m.\u001b[39mmake(test_env_name)\n\u001b[1;32m      <a href='vscode-notebook-cell:/home/lev/Projects/imitation/examples/8_mce_transfer.ipynb#ch0000014?line=5'>6</a>\u001b[0m test_venv \u001b[39m=\u001b[39m resettable_env\u001b[39m.\u001b[39mDictExtractWrapper(\n\u001b[1;32m      <a href='vscode-notebook-cell:/home/lev/Projects/imitation/examples/8_mce_transfer.ipynb#ch0000014?line=6'>7</a>\u001b[0m     DummyVecEnv([\u001b[39mlambda\u001b[39;00m: gym\u001b[39m.\u001b[39mmake(test_env_name)] \u001b[39m*\u001b[39m \u001b[39m4\u001b[39m), \u001b[39m\"\u001b[39m\u001b[39mstate\u001b[39m\u001b[39m\"\u001b[39m\n\u001b[1;32m      <a href='vscode-notebook-cell:/home/lev/Projects/imitation/examples/8_mce_transfer.ipynb#ch0000014?line=7'>8</a>\u001b[0m )\n\u001b[0;32m---> <a href='vscode-notebook-cell:/home/lev/Projects/imitation/examples/8_mce_transfer.ipynb#ch0000014?line=9'>10</a>\u001b[0m _, _, pi_learner \u001b[39m=\u001b[39m mce_partition_fh(test_env, reward\u001b[39m=\u001b[39;49mr_pred_from_trajs)\n\u001b[1;32m     <a href='vscode-notebook-cell:/home/lev/Projects/imitation/examples/8_mce_transfer.ipynb#ch0000014?line=11'>12</a>\u001b[0m _, om_learner \u001b[39m=\u001b[39m mce_occupancy_measures(test_env, pi\u001b[39m=\u001b[39mpi_learner, reward\u001b[39m=\u001b[39mr_pred_from_trajs)\n\u001b[1;32m     <a href='vscode-notebook-cell:/home/lev/Projects/imitation/examples/8_mce_transfer.ipynb#ch0000014?line=13'>14</a>\u001b[0m learner \u001b[39m=\u001b[39m TabularPolicy(\n\u001b[1;32m     <a href='vscode-notebook-cell:/home/lev/Projects/imitation/examples/8_mce_transfer.ipynb#ch0000014?line=14'>15</a>\u001b[0m     state_space\u001b[39m=\u001b[39mtest_env\u001b[39m.\u001b[39mpomdp_state_space,\n\u001b[1;32m     <a href='vscode-notebook-cell:/home/lev/Projects/imitation/examples/8_mce_transfer.ipynb#ch0000014?line=15'>16</a>\u001b[0m     action_space\u001b[39m=\u001b[39mtest_env\u001b[39m.\u001b[39maction_space,\n\u001b[1;32m     <a href='vscode-notebook-cell:/home/lev/Projects/imitation/examples/8_mce_transfer.ipynb#ch0000014?line=16'>17</a>\u001b[0m     pi\u001b[39m=\u001b[39mpi_learner,\n\u001b[1;32m     <a href='vscode-notebook-cell:/home/lev/Projects/imitation/examples/8_mce_transfer.ipynb#ch0000014?line=17'>18</a>\u001b[0m     rng\u001b[39m=\u001b[39m\u001b[39mNone\u001b[39;00m,\n\u001b[1;32m     <a href='vscode-notebook-cell:/home/lev/Projects/imitation/examples/8_mce_transfer.ipynb#ch0000014?line=18'>19</a>\u001b[0m )\n",
      "File \u001b[0;32m~/Projects/imitation/src/imitation/algorithms/mce_irl.py:64\u001b[0m, in \u001b[0;36mmce_partition_fh\u001b[0;34m(env, reward, discount)\u001b[0m\n\u001b[1;32m     <a href='file:///home/lev/Projects/imitation/src/imitation/algorithms/mce_irl.py?line=59'>60</a>\u001b[0m broad_R \u001b[39m=\u001b[39m reward[:, \u001b[39mNone\u001b[39;00m]\n\u001b[1;32m     <a href='file:///home/lev/Projects/imitation/src/imitation/algorithms/mce_irl.py?line=61'>62</a>\u001b[0m \u001b[39m# Base case: final timestep\u001b[39;00m\n\u001b[1;32m     <a href='file:///home/lev/Projects/imitation/src/imitation/algorithms/mce_irl.py?line=62'>63</a>\u001b[0m \u001b[39m# final Q(s,a) is just reward\u001b[39;00m\n\u001b[0;32m---> <a href='file:///home/lev/Projects/imitation/src/imitation/algorithms/mce_irl.py?line=63'>64</a>\u001b[0m Q[horizon \u001b[39m-\u001b[39m \u001b[39m1\u001b[39m, :, :] \u001b[39m=\u001b[39m broad_R\n\u001b[1;32m     <a href='file:///home/lev/Projects/imitation/src/imitation/algorithms/mce_irl.py?line=64'>65</a>\u001b[0m \u001b[39m# V(s) is always normalising constant\u001b[39;00m\n\u001b[1;32m     <a href='file:///home/lev/Projects/imitation/src/imitation/algorithms/mce_irl.py?line=65'>66</a>\u001b[0m V[horizon \u001b[39m-\u001b[39m \u001b[39m1\u001b[39m, :] \u001b[39m=\u001b[39m scipy\u001b[39m.\u001b[39mspecial\u001b[39m.\u001b[39mlogsumexp(Q[horizon \u001b[39m-\u001b[39m \u001b[39m1\u001b[39m, :, :], axis\u001b[39m=\u001b[39m\u001b[39m1\u001b[39m)\n",
      "\u001b[0;31mValueError\u001b[0m: could not broadcast input array from shape (2000,1) into shape (90,4)"
     ]
    }
   ],
   "source": [
    "import numpy as np\n",
    "r_pred_from_trajs = np.nan_to_num(r_pred_from_trajs, nan=-1)\n",
    "assert not np.isnan(r_pred_from_trajs).any()\n",
    "test_env_name = \"imitation/CliffWorld100x20-v0\"\n",
    "test_env = gym.make(test_env_name)\n",
    "test_venv = resettable_env.DictExtractWrapper(\n",
    "    DummyVecEnv([lambda: gym.make(test_env_name)] * 4), \"state\"\n",
    ")\n",
    "\n",
    "_, _, pi_learner = mce_partition_fh(test_env, reward=r_pred_from_trajs)\n",
    "\n",
    "_, om_learner = mce_occupancy_measures(test_env, pi=pi_learner, reward=r_pred_from_trajs)\n",
    "\n",
    "learner = TabularPolicy(\n",
    "    state_space=test_env.pomdp_state_space,\n",
    "    action_space=test_env.action_space,\n",
    "    pi=pi_learner,\n",
    "    rng=None,\n",
    ")\n",
    "\n",
    "learner_trajs = rollout.generate_trajectories(\n",
    "    policy=learner,\n",
    "    venv=test_venv,\n",
    "    sample_until=rollout.make_min_timesteps(5000),\n",
    ")\n",
    "\n",
    "print(\"Learner stats: \", rollout.rollout_stats(learner_trajs))\n"
   ]
  },
  {
   "cell_type": "code",
   "execution_count": null,
   "metadata": {},
   "outputs": [
    {
     "name": "stderr",
     "output_type": "stream",
     "text": [
      "No artists with labels found to put in legend.  Note that artists whose label start with an underscore are ignored when legend() is called with no argument.\n"
     ]
    },
    {
     "data": {
      "image/png": "[encoded data removed]",
      "text/plain": [
       "<Figure size 432x288 with 1 Axes>"
      ]
     },
     "metadata": {
      "needs_background": "light"
     },
     "output_type": "display_data"
    }
   ],
   "source": [
    "test_env.draw_value_vec(om_learner)"
   ]
  }
 ],
 "metadata": {
  "interpreter": {
   "hash": "4eb6f6021eaa6a41c570dcac7c6e3745e29490c2a0ef87cf55459964b53c730a"
  },
  "kernelspec": {
   "display_name": "Python 3.8.13 ('imitation')",
   "language": "python",
   "name": "python3"
  },
  "language_info": {
   "codemirror_mode": {
    "name": "ipython",
    "version": 3
   },
   "file_extension": ".py",
   "mimetype": "text/x-python",
   "name": "python",
   "nbconvert_exporter": "python",
   "pygments_lexer": "ipython3",
   "version": "3.8.13"
  }
 },
 "nbformat": 4,
 "nbformat_minor": 2
}
