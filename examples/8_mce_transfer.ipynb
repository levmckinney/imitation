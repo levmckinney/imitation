{
 "cells": [
  {
   "cell_type": "markdown",
   "metadata": {},
   "source": [
    "# Learn a Reward Function using Maximum Conditional Entropy Inverse Reinforcement Learning\n",
    "\n",
    "MCE IRL only supports tabular environments."
   ]
  },
  {
   "cell_type": "markdown",
   "metadata": {},
   "source": [
    "The cliffworld environment, that we use here is a TabularEnvironment.\n",
    "It's observations consist of the POMDP's observations and the actual state.\n",
    "We later also need VecEnv objects that expose just the internal POMDP-state or just the POMDP-observation as its observation."
   ]
  },
  {
   "cell_type": "code",
   "execution_count": 1,
   "metadata": {},
   "outputs": [
    {
     "name": "stdout",
     "output_type": "stream",
     "text": [
      "<OrderEnforcing\n",
      "G______\n",
      "_______\n",
      "####_##\n",
      "_______\n",
      "S______\n",
      ">\n"
     ]
    }
   ],
   "source": [
    "from imitation.algorithms.mce_irl import (\n",
    "    MCEIRL,\n",
    "    mce_occupancy_measures,\n",
    "    mce_partition_fh,\n",
    "    TabularPolicy,\n",
    ")\n",
    "import gym\n",
    "from imitation.algorithms import base\n",
    "\n",
    "from imitation.data import rollout\n",
    "from imitation.envs import resettable_env\n",
    "from stable_baselines3.common.vec_env import DummyVecEnv\n",
    "from imitation.rewards import reward_nets\n",
    "from imitation.rewards.reward_wrapper import RewardVecEnvWrapper\n",
    "from imitation.envs.examples.model_envs import CliffWorld\n",
    "\n",
    "\n",
    "env_name = \"imitation/Explore-v0\"\n",
    "\n",
    "env : CliffWorld = gym.make(env_name)\n",
    "state_venv = resettable_env.DictExtractWrapper(\n",
    "    DummyVecEnv([lambda: gym.make(env_name)] * 4), \"state\"\n",
    ")\n",
    "obs_venv = resettable_env.DictExtractWrapper(\n",
    "    DummyVecEnv([lambda: gym.make(env_name)] * 4), \"obs\"\n",
    ")\n",
    "print(env)"
   ]
  },
  {
   "cell_type": "markdown",
   "metadata": {},
   "source": [
    "Then we derive an expert policy using Bellman backups. We analytically compute the occupancy measures, and also sample some expert trajectories."
   ]
  },
  {
   "cell_type": "code",
   "execution_count": 2,
   "metadata": {},
   "outputs": [
    {
     "name": "stdout",
     "output_type": "stream",
     "text": [
      "Expert stats:  {'n_traj': 500, 'return_min': 12.0, 'return_mean': 12.0, 'return_std': 0.0, 'return_max': 12.0, 'len_min': 10, 'len_mean': 10.0, 'len_std': 0.0, 'len_max': 10}\n"
     ]
    }
   ],
   "source": [
    "_, _, pi = mce_partition_fh(env)\n",
    "\n",
    "_, om = mce_occupancy_measures(env, pi=pi)\n",
    "\n",
    "expert = TabularPolicy(\n",
    "    state_space=env.pomdp_state_space,\n",
    "    action_space=env.action_space,\n",
    "    pi=pi,\n",
    "    rng=None,\n",
    ")\n",
    "\n",
    "expert_trajs = rollout.generate_trajectories(\n",
    "    policy=expert,\n",
    "    venv=state_venv,\n",
    "    sample_until=rollout.make_min_timesteps(5000),\n",
    ")\n",
    "\n",
    "print(\"Expert stats: \", rollout.rollout_stats(expert_trajs))"
   ]
  },
  {
   "cell_type": "markdown",
   "metadata": {},
   "source": [
    "Finally, we set up the MCE algorithm and train it."
   ]
  },
  {
   "cell_type": "code",
   "execution_count": 3,
   "metadata": {},
   "outputs": [],
   "source": [
    "def train_mce_irl(demos, **kwargs):\n",
    "    reward_net = reward_nets.BasicRewardNet(\n",
    "        env.pomdp_observation_space,\n",
    "        env.action_space,\n",
    "        use_action=False,\n",
    "        use_next_state=False,\n",
    "        use_done=False,\n",
    "        hid_sizes=[],\n",
    "    )\n",
    "\n",
    "    mce_irl = MCEIRL(demos, env, reward_net, linf_eps=1e-3)\n",
    "    mce_irl.train(**kwargs)\n",
    "\n",
    "    imitation_trajs = rollout.generate_trajectories(\n",
    "        policy=mce_irl.policy,\n",
    "        venv=state_venv,\n",
    "        sample_until=rollout.make_min_timesteps(5000),\n",
    "    )\n",
    "    print(\"Imitation stats: \", rollout.rollout_stats(imitation_trajs))\n",
    "\n",
    "    return mce_irl"
   ]
  },
  {
   "cell_type": "code",
   "execution_count": 4,
   "metadata": {},
   "outputs": [
    {
     "data": {
      "image/png": "[encoded data removed]",
      "text/plain": [
       "<Figure size 432x288 with 2 Axes>"
      ]
     },
     "metadata": {
      "needs_background": "light"
     },
     "output_type": "display_data"
    }
   ],
   "source": [
    "env.draw_value_vec(om)"
   ]
  },
  {
   "cell_type": "markdown",
   "metadata": {},
   "source": [
    "First, we train it on the analytically computed occupancy measures. This should give a very precise result."
   ]
  },
  {
   "cell_type": "code",
   "execution_count": 5,
   "metadata": {},
   "outputs": [
    {
     "name": "stdout",
     "output_type": "stream",
     "text": [
      "--------------------------\n",
      "| grad_norm   | 4.53     |\n",
      "| iteration   | 0        |\n",
      "| linf_delta  | 2.38     |\n",
      "| weight_norm | 0.587    |\n",
      "--------------------------\n",
      "--------------------------\n",
      "| grad_norm   | 2.1      |\n",
      "| iteration   | 100      |\n",
      "| linf_delta  | 1.91     |\n",
      "| weight_norm | 4.78     |\n",
      "--------------------------\n",
      "--------------------------\n",
      "| grad_norm   | 1.32     |\n",
      "| iteration   | 200      |\n",
      "| linf_delta  | 1.27     |\n",
      "| weight_norm | 6.87     |\n",
      "--------------------------\n",
      "--------------------------\n",
      "| grad_norm   | 0.788    |\n",
      "| iteration   | 300      |\n",
      "| linf_delta  | 0.761    |\n",
      "| weight_norm | 8.2      |\n",
      "--------------------------\n",
      "--------------------------\n",
      "| grad_norm   | 0.49     |\n",
      "| iteration   | 400      |\n",
      "| linf_delta  | 0.472    |\n",
      "| weight_norm | 9.13     |\n",
      "--------------------------\n",
      "--------------------------\n",
      "| grad_norm   | 0.328    |\n",
      "| iteration   | 500      |\n",
      "| linf_delta  | 0.315    |\n",
      "| weight_norm | 9.79     |\n",
      "--------------------------\n",
      "--------------------------\n",
      "| grad_norm   | 0.234    |\n",
      "| iteration   | 600      |\n",
      "| linf_delta  | 0.224    |\n",
      "| weight_norm | 10.3     |\n",
      "--------------------------\n",
      "--------------------------\n",
      "| grad_norm   | 0.175    |\n",
      "| iteration   | 700      |\n",
      "| linf_delta  | 0.168    |\n",
      "| weight_norm | 10.7     |\n",
      "--------------------------\n",
      "--------------------------\n",
      "| grad_norm   | 0.137    |\n",
      "| iteration   | 800      |\n",
      "| linf_delta  | 0.131    |\n",
      "| weight_norm | 11.1     |\n",
      "--------------------------\n",
      "--------------------------\n",
      "| grad_norm   | 0.11     |\n",
      "| iteration   | 900      |\n",
      "| linf_delta  | 0.105    |\n",
      "| weight_norm | 11.4     |\n",
      "--------------------------\n",
      "Imitation stats:  {'n_traj': 500, 'return_min': -10.0, 'return_mean': 10.988, 'return_std': 3.254513174040013, 'return_max': 12.0, 'len_min': 10, 'len_mean': 10.0, 'len_std': 0.0, 'len_max': 10}\n"
     ]
    }
   ],
   "source": [
    "mce_irl_from_om = train_mce_irl(om)"
   ]
  },
  {
   "cell_type": "code",
   "execution_count": 6,
   "metadata": {},
   "outputs": [
    {
     "data": {
      "image/png": "[encoded data removed]",
      "text/plain": [
       "<Figure size 432x288 with 2 Axes>"
      ]
     },
     "metadata": {
      "needs_background": "light"
     },
     "output_type": "display_data"
    }
   ],
   "source": [
    "r_pred_from_om = mce_irl_from_om.get_predicted_r()\n",
    "env.draw_value_vec(r_pred_from_om)"
   ]
  },
  {
   "cell_type": "markdown",
   "metadata": {},
   "source": [
    "Then we train it on trajectories sampled from the expert. This gives a stochastic approximation to occupancy measure, so performance is a little worse. Using more expert trajectories should improve performance -- try it!"
   ]
  },
  {
   "cell_type": "code",
   "execution_count": 7,
   "metadata": {},
   "outputs": [
    {
     "name": "stdout",
     "output_type": "stream",
     "text": [
      "--------------------------\n",
      "| grad_norm   | 5.1      |\n",
      "| iteration   | 0        |\n",
      "| linf_delta  | 3        |\n",
      "| weight_norm | 0.577    |\n",
      "--------------------------\n",
      "--------------------------\n",
      "| grad_norm   | 2.9      |\n",
      "| iteration   | 100      |\n",
      "| linf_delta  | 2.71     |\n",
      "| weight_norm | 5.27     |\n",
      "--------------------------\n",
      "--------------------------\n",
      "| grad_norm   | 2        |\n",
      "| iteration   | 200      |\n",
      "| linf_delta  | 1.93     |\n",
      "| weight_norm | 8.28     |\n",
      "--------------------------\n",
      "--------------------------\n",
      "| grad_norm   | 1.39     |\n",
      "| iteration   | 300      |\n",
      "| linf_delta  | 1.31     |\n",
      "| weight_norm | 10.4     |\n",
      "--------------------------\n",
      "--------------------------\n",
      "| grad_norm   | 1.1      |\n",
      "| iteration   | 400      |\n",
      "| linf_delta  | 1.02     |\n",
      "| weight_norm | 12       |\n",
      "--------------------------\n",
      "--------------------------\n",
      "| grad_norm   | 0.992    |\n",
      "| iteration   | 500      |\n",
      "| linf_delta  | 0.902    |\n",
      "| weight_norm | 13.4     |\n",
      "--------------------------\n",
      "--------------------------\n",
      "| grad_norm   | 0.944    |\n",
      "| iteration   | 600      |\n",
      "| linf_delta  | 0.847    |\n",
      "| weight_norm | 14.8     |\n",
      "--------------------------\n",
      "--------------------------\n",
      "| grad_norm   | 0.92     |\n",
      "| iteration   | 700      |\n",
      "| linf_delta  | 0.817    |\n",
      "| weight_norm | 16.3     |\n",
      "--------------------------\n",
      "--------------------------\n",
      "| grad_norm   | 0.906    |\n",
      "| iteration   | 800      |\n",
      "| linf_delta  | 0.799    |\n",
      "| weight_norm | 17.8     |\n",
      "--------------------------\n",
      "--------------------------\n",
      "| grad_norm   | 0.896    |\n",
      "| iteration   | 900      |\n",
      "| linf_delta  | 0.786    |\n",
      "| weight_norm | 19.4     |\n",
      "--------------------------\n",
      "Imitation stats:  {'n_traj': 500, 'return_min': -10.0, 'return_mean': 11.846, 'return_std': 1.6242795325928354, 'return_max': 12.0, 'len_min': 10, 'len_mean': 10.0, 'len_std': 0.0, 'len_max': 10}\n"
     ]
    }
   ],
   "source": [
    "mce_irl_from_trajs = train_mce_irl(expert_trajs[0:10])"
   ]
  },
  {
   "cell_type": "code",
   "execution_count": 8,
   "metadata": {},
   "outputs": [
    {
     "data": {
      "image/png": "[encoded data removed]",
      "text/plain": [
       "<Figure size 432x288 with 2 Axes>"
      ]
     },
     "metadata": {
      "needs_background": "light"
     },
     "output_type": "display_data"
    }
   ],
   "source": [
    "r_pred_from_trajs = mce_irl_from_trajs.get_predicted_r()\n",
    "env.draw_value_vec(r_pred_from_trajs)"
   ]
  },
  {
   "cell_type": "code",
   "execution_count": 12,
   "metadata": {},
   "outputs": [
    {
     "name": "stdout",
     "output_type": "stream",
     "text": [
      "<OrderEnforcing\n",
      "G______\n",
      "_______\n",
      "_######\n",
      "_______\n",
      "S______\n",
      ">\n"
     ]
    },
    {
     "ename": "TypeError",
     "evalue": "flatten(): argument 'input' (position 1) must be Tensor, not collections.OrderedDict",
     "output_type": "error",
     "traceback": [
      "\u001b[0;31m---------------------------------------------------------------------------\u001b[0m",
      "\u001b[0;31mTypeError\u001b[0m                                 Traceback (most recent call last)",
      "\u001b[1;32m/home/lev/Projects/imitation/examples/6_train_mce.ipynb Cell 15'\u001b[0m in \u001b[0;36m<cell line: 19>\u001b[0;34m()\u001b[0m\n\u001b[1;32m     <a href='vscode-notebook-cell:/home/lev/Projects/imitation/examples/6_train_mce.ipynb#ch0000016?line=9'>10</a>\u001b[0m _, om_learner \u001b[39m=\u001b[39m mce_occupancy_measures(test_env, pi\u001b[39m=\u001b[39mpi_learner)\n\u001b[1;32m     <a href='vscode-notebook-cell:/home/lev/Projects/imitation/examples/6_train_mce.ipynb#ch0000016?line=11'>12</a>\u001b[0m learner \u001b[39m=\u001b[39m TabularPolicy(\n\u001b[1;32m     <a href='vscode-notebook-cell:/home/lev/Projects/imitation/examples/6_train_mce.ipynb#ch0000016?line=12'>13</a>\u001b[0m     state_space\u001b[39m=\u001b[39mtest_env\u001b[39m.\u001b[39mpomdp_state_space,\n\u001b[1;32m     <a href='vscode-notebook-cell:/home/lev/Projects/imitation/examples/6_train_mce.ipynb#ch0000016?line=13'>14</a>\u001b[0m     action_space\u001b[39m=\u001b[39mtest_env\u001b[39m.\u001b[39maction_space,\n\u001b[1;32m     <a href='vscode-notebook-cell:/home/lev/Projects/imitation/examples/6_train_mce.ipynb#ch0000016?line=14'>15</a>\u001b[0m     pi\u001b[39m=\u001b[39mpi_learner,\n\u001b[1;32m     <a href='vscode-notebook-cell:/home/lev/Projects/imitation/examples/6_train_mce.ipynb#ch0000016?line=15'>16</a>\u001b[0m     rng\u001b[39m=\u001b[39m\u001b[39mNone\u001b[39;00m,\n\u001b[1;32m     <a href='vscode-notebook-cell:/home/lev/Projects/imitation/examples/6_train_mce.ipynb#ch0000016?line=16'>17</a>\u001b[0m )\n\u001b[0;32m---> <a href='vscode-notebook-cell:/home/lev/Projects/imitation/examples/6_train_mce.ipynb#ch0000016?line=18'>19</a>\u001b[0m learner_trajs \u001b[39m=\u001b[39m rollout\u001b[39m.\u001b[39;49mgenerate_trajectories(\n\u001b[1;32m     <a href='vscode-notebook-cell:/home/lev/Projects/imitation/examples/6_train_mce.ipynb#ch0000016?line=19'>20</a>\u001b[0m     policy\u001b[39m=\u001b[39;49mlearner,\n\u001b[1;32m     <a href='vscode-notebook-cell:/home/lev/Projects/imitation/examples/6_train_mce.ipynb#ch0000016?line=20'>21</a>\u001b[0m     venv\u001b[39m=\u001b[39;49mtest_venv,\n\u001b[1;32m     <a href='vscode-notebook-cell:/home/lev/Projects/imitation/examples/6_train_mce.ipynb#ch0000016?line=21'>22</a>\u001b[0m     sample_until\u001b[39m=\u001b[39;49mrollout\u001b[39m.\u001b[39;49mmake_min_timesteps(\u001b[39m5000\u001b[39;49m),\n\u001b[1;32m     <a href='vscode-notebook-cell:/home/lev/Projects/imitation/examples/6_train_mce.ipynb#ch0000016?line=22'>23</a>\u001b[0m )\n\u001b[1;32m     <a href='vscode-notebook-cell:/home/lev/Projects/imitation/examples/6_train_mce.ipynb#ch0000016?line=24'>25</a>\u001b[0m \u001b[39mprint\u001b[39m(\u001b[39m\"\u001b[39m\u001b[39mLearner stats: \u001b[39m\u001b[39m\"\u001b[39m, rollout\u001b[39m.\u001b[39mrollout_stats(expert_trajs))\n",
      "File \u001b[0;32m~/Projects/imitation/src/imitation/data/rollout.py:363\u001b[0m, in \u001b[0;36mgenerate_trajectories\u001b[0;34m(policy, venv, sample_until, deterministic_policy, rng)\u001b[0m\n\u001b[1;32m    <a href='file:///home/lev/Projects/imitation/src/imitation/data/rollout.py?line=360'>361</a>\u001b[0m \u001b[39mwhile\u001b[39;00m np\u001b[39m.\u001b[39many(active):\n\u001b[1;32m    <a href='file:///home/lev/Projects/imitation/src/imitation/data/rollout.py?line=361'>362</a>\u001b[0m     acts \u001b[39m=\u001b[39m get_actions(obs)\n\u001b[0;32m--> <a href='file:///home/lev/Projects/imitation/src/imitation/data/rollout.py?line=362'>363</a>\u001b[0m     obs, rews, dones, infos \u001b[39m=\u001b[39m venv\u001b[39m.\u001b[39;49mstep(acts)\n\u001b[1;32m    <a href='file:///home/lev/Projects/imitation/src/imitation/data/rollout.py?line=364'>365</a>\u001b[0m     \u001b[39m# If an environment is inactive, i.e. the episode completed for that\u001b[39;00m\n\u001b[1;32m    <a href='file:///home/lev/Projects/imitation/src/imitation/data/rollout.py?line=365'>366</a>\u001b[0m     \u001b[39m# environment after `sample_until(trajectories)` was true, then we do\u001b[39;00m\n\u001b[1;32m    <a href='file:///home/lev/Projects/imitation/src/imitation/data/rollout.py?line=366'>367</a>\u001b[0m     \u001b[39m# *not* want to add any subsequent trajectories from it. We avoid this\u001b[39;00m\n\u001b[1;32m    <a href='file:///home/lev/Projects/imitation/src/imitation/data/rollout.py?line=367'>368</a>\u001b[0m     \u001b[39m# by just making it never done.\u001b[39;00m\n\u001b[1;32m    <a href='file:///home/lev/Projects/imitation/src/imitation/data/rollout.py?line=368'>369</a>\u001b[0m     dones \u001b[39m&\u001b[39m\u001b[39m=\u001b[39m active\n",
      "File \u001b[0;32m~/miniconda3/envs/imitation/lib/python3.8/site-packages/stable_baselines3/common/vec_env/base_vec_env.py:162\u001b[0m, in \u001b[0;36mVecEnv.step\u001b[0;34m(self, actions)\u001b[0m\n\u001b[1;32m    <a href='file:///home/lev/miniconda3/envs/imitation/lib/python3.8/site-packages/stable_baselines3/common/vec_env/base_vec_env.py?line=154'>155</a>\u001b[0m \u001b[39m\"\"\"\u001b[39;00m\n\u001b[1;32m    <a href='file:///home/lev/miniconda3/envs/imitation/lib/python3.8/site-packages/stable_baselines3/common/vec_env/base_vec_env.py?line=155'>156</a>\u001b[0m \u001b[39mStep the environments with the given action\u001b[39;00m\n\u001b[1;32m    <a href='file:///home/lev/miniconda3/envs/imitation/lib/python3.8/site-packages/stable_baselines3/common/vec_env/base_vec_env.py?line=156'>157</a>\u001b[0m \n\u001b[1;32m    <a href='file:///home/lev/miniconda3/envs/imitation/lib/python3.8/site-packages/stable_baselines3/common/vec_env/base_vec_env.py?line=157'>158</a>\u001b[0m \u001b[39m:param actions: the action\u001b[39;00m\n\u001b[1;32m    <a href='file:///home/lev/miniconda3/envs/imitation/lib/python3.8/site-packages/stable_baselines3/common/vec_env/base_vec_env.py?line=158'>159</a>\u001b[0m \u001b[39m:return: observation, reward, done, information\u001b[39;00m\n\u001b[1;32m    <a href='file:///home/lev/miniconda3/envs/imitation/lib/python3.8/site-packages/stable_baselines3/common/vec_env/base_vec_env.py?line=159'>160</a>\u001b[0m \u001b[39m\"\"\"\u001b[39;00m\n\u001b[1;32m    <a href='file:///home/lev/miniconda3/envs/imitation/lib/python3.8/site-packages/stable_baselines3/common/vec_env/base_vec_env.py?line=160'>161</a>\u001b[0m \u001b[39mself\u001b[39m\u001b[39m.\u001b[39mstep_async(actions)\n\u001b[0;32m--> <a href='file:///home/lev/miniconda3/envs/imitation/lib/python3.8/site-packages/stable_baselines3/common/vec_env/base_vec_env.py?line=161'>162</a>\u001b[0m \u001b[39mreturn\u001b[39;00m \u001b[39mself\u001b[39;49m\u001b[39m.\u001b[39;49mstep_wait()\n",
      "File \u001b[0;32m~/Projects/imitation/src/imitation/envs/resettable_env.py:306\u001b[0m, in \u001b[0;36mDictExtractWrapper.step_wait\u001b[0;34m(self)\u001b[0m\n\u001b[1;32m    <a href='file:///home/lev/Projects/imitation/src/imitation/envs/resettable_env.py?line=304'>305</a>\u001b[0m \u001b[39mdef\u001b[39;00m \u001b[39mstep_wait\u001b[39m(\u001b[39mself\u001b[39m):\n\u001b[0;32m--> <a href='file:///home/lev/Projects/imitation/src/imitation/envs/resettable_env.py?line=305'>306</a>\u001b[0m     obs, rew, dones, infos \u001b[39m=\u001b[39m \u001b[39mself\u001b[39;49m\u001b[39m.\u001b[39;49mvenv\u001b[39m.\u001b[39;49mstep_wait()\n\u001b[1;32m    <a href='file:///home/lev/Projects/imitation/src/imitation/envs/resettable_env.py?line=306'>307</a>\u001b[0m     \u001b[39mfor\u001b[39;00m info \u001b[39min\u001b[39;00m infos:\n\u001b[1;32m    <a href='file:///home/lev/Projects/imitation/src/imitation/envs/resettable_env.py?line=307'>308</a>\u001b[0m         \u001b[39mif\u001b[39;00m \u001b[39m\"\u001b[39m\u001b[39mterminal_observation\u001b[39m\u001b[39m\"\u001b[39m \u001b[39min\u001b[39;00m info:\n",
      "File \u001b[0;32m~/Projects/imitation/src/imitation/rewards/reward_wrapper.py:102\u001b[0m, in \u001b[0;36mRewardVecEnvWrapper.step_wait\u001b[0;34m(self)\u001b[0m\n\u001b[1;32m     <a href='file:///home/lev/Projects/imitation/src/imitation/rewards/reward_wrapper.py?line=98'>99</a>\u001b[0m     obs_fixed\u001b[39m.\u001b[39mappend(single_obs)\n\u001b[1;32m    <a href='file:///home/lev/Projects/imitation/src/imitation/rewards/reward_wrapper.py?line=99'>100</a>\u001b[0m obs_fixed \u001b[39m=\u001b[39m np\u001b[39m.\u001b[39mstack(obs_fixed)\n\u001b[0;32m--> <a href='file:///home/lev/Projects/imitation/src/imitation/rewards/reward_wrapper.py?line=101'>102</a>\u001b[0m rews \u001b[39m=\u001b[39m \u001b[39mself\u001b[39;49m\u001b[39m.\u001b[39;49mreward_fn(\u001b[39mself\u001b[39;49m\u001b[39m.\u001b[39;49m_old_obs, \u001b[39mself\u001b[39;49m\u001b[39m.\u001b[39;49m_actions, obs_fixed, np\u001b[39m.\u001b[39;49marray(dones))\n\u001b[1;32m    <a href='file:///home/lev/Projects/imitation/src/imitation/rewards/reward_wrapper.py?line=102'>103</a>\u001b[0m \u001b[39massert\u001b[39;00m \u001b[39mlen\u001b[39m(rews) \u001b[39m==\u001b[39m \u001b[39mlen\u001b[39m(obs), \u001b[39m\"\u001b[39m\u001b[39mmust return one rew for each env\u001b[39m\u001b[39m\"\u001b[39m\n\u001b[1;32m    <a href='file:///home/lev/Projects/imitation/src/imitation/rewards/reward_wrapper.py?line=103'>104</a>\u001b[0m done_mask \u001b[39m=\u001b[39m np\u001b[39m.\u001b[39masarray(dones, dtype\u001b[39m=\u001b[39m\u001b[39m\"\u001b[39m\u001b[39mbool\u001b[39m\u001b[39m\"\u001b[39m)\u001b[39m.\u001b[39mreshape((\u001b[39mlen\u001b[39m(dones),))\n",
      "File \u001b[0;32m~/miniconda3/envs/imitation/lib/python3.8/site-packages/torch/nn/modules/module.py:1110\u001b[0m, in \u001b[0;36mModule._call_impl\u001b[0;34m(self, *input, **kwargs)\u001b[0m\n\u001b[1;32m   <a href='file:///home/lev/miniconda3/envs/imitation/lib/python3.8/site-packages/torch/nn/modules/module.py?line=1105'>1106</a>\u001b[0m \u001b[39m# If we don't have any hooks, we want to skip the rest of the logic in\u001b[39;00m\n\u001b[1;32m   <a href='file:///home/lev/miniconda3/envs/imitation/lib/python3.8/site-packages/torch/nn/modules/module.py?line=1106'>1107</a>\u001b[0m \u001b[39m# this function, and just call forward.\u001b[39;00m\n\u001b[1;32m   <a href='file:///home/lev/miniconda3/envs/imitation/lib/python3.8/site-packages/torch/nn/modules/module.py?line=1107'>1108</a>\u001b[0m \u001b[39mif\u001b[39;00m \u001b[39mnot\u001b[39;00m (\u001b[39mself\u001b[39m\u001b[39m.\u001b[39m_backward_hooks \u001b[39mor\u001b[39;00m \u001b[39mself\u001b[39m\u001b[39m.\u001b[39m_forward_hooks \u001b[39mor\u001b[39;00m \u001b[39mself\u001b[39m\u001b[39m.\u001b[39m_forward_pre_hooks \u001b[39mor\u001b[39;00m _global_backward_hooks\n\u001b[1;32m   <a href='file:///home/lev/miniconda3/envs/imitation/lib/python3.8/site-packages/torch/nn/modules/module.py?line=1108'>1109</a>\u001b[0m         \u001b[39mor\u001b[39;00m _global_forward_hooks \u001b[39mor\u001b[39;00m _global_forward_pre_hooks):\n\u001b[0;32m-> <a href='file:///home/lev/miniconda3/envs/imitation/lib/python3.8/site-packages/torch/nn/modules/module.py?line=1109'>1110</a>\u001b[0m     \u001b[39mreturn\u001b[39;00m forward_call(\u001b[39m*\u001b[39;49m\u001b[39minput\u001b[39;49m, \u001b[39m*\u001b[39;49m\u001b[39m*\u001b[39;49mkwargs)\n\u001b[1;32m   <a href='file:///home/lev/miniconda3/envs/imitation/lib/python3.8/site-packages/torch/nn/modules/module.py?line=1110'>1111</a>\u001b[0m \u001b[39m# Do not call functions when jit is used\u001b[39;00m\n\u001b[1;32m   <a href='file:///home/lev/miniconda3/envs/imitation/lib/python3.8/site-packages/torch/nn/modules/module.py?line=1111'>1112</a>\u001b[0m full_backward_hooks, non_full_backward_hooks \u001b[39m=\u001b[39m [], []\n",
      "File \u001b[0;32m~/Projects/imitation/src/imitation/rewards/reward_nets.py:307\u001b[0m, in \u001b[0;36mBasicRewardNet.forward\u001b[0;34m(self, state, action, next_state, done)\u001b[0m\n\u001b[1;32m    <a href='file:///home/lev/Projects/imitation/src/imitation/rewards/reward_nets.py?line=304'>305</a>\u001b[0m inputs \u001b[39m=\u001b[39m []\n\u001b[1;32m    <a href='file:///home/lev/Projects/imitation/src/imitation/rewards/reward_nets.py?line=305'>306</a>\u001b[0m \u001b[39mif\u001b[39;00m \u001b[39mself\u001b[39m\u001b[39m.\u001b[39muse_state:\n\u001b[0;32m--> <a href='file:///home/lev/Projects/imitation/src/imitation/rewards/reward_nets.py?line=306'>307</a>\u001b[0m     inputs\u001b[39m.\u001b[39mappend(th\u001b[39m.\u001b[39;49mflatten(state, \u001b[39m1\u001b[39;49m))\n\u001b[1;32m    <a href='file:///home/lev/Projects/imitation/src/imitation/rewards/reward_nets.py?line=307'>308</a>\u001b[0m \u001b[39mif\u001b[39;00m \u001b[39mself\u001b[39m\u001b[39m.\u001b[39muse_action:\n\u001b[1;32m    <a href='file:///home/lev/Projects/imitation/src/imitation/rewards/reward_nets.py?line=308'>309</a>\u001b[0m     inputs\u001b[39m.\u001b[39mappend(th\u001b[39m.\u001b[39mflatten(action, \u001b[39m1\u001b[39m))\n",
      "\u001b[0;31mTypeError\u001b[0m: flatten(): argument 'input' (position 1) must be Tensor, not collections.OrderedDict"
     ]
    }
   ],
   "source": [
    "test_env_name = \"imitation/ExploreCloseGap-v0\"\n",
    "test_env = gym.make(test_env_name)\n",
    "test_venv = resettable_env.DictExtractWrapper(\n",
    "    RewardVecEnvWrapper(DummyVecEnv([lambda: gym.make(test_env_name)] * 4),\n",
    "     mce_irl_from_om.reward_net), \"state\"\n",
    ")\n",
    "print(test_env) #TODO(lev) complete implementation of transfer here.  \n",
    "_, _, pi_learner = mce_partition_fh(test_env)\n",
    "\n",
    "_, om_learner = mce_occupancy_measures(test_env, pi=pi_learner)\n",
    "\n",
    "learner = TabularPolicy(\n",
    "    state_space=test_env.pomdp_state_space,\n",
    "    action_space=test_env.action_space,\n",
    "    pi=pi_learner,\n",
    "    rng=None,\n",
    ")\n",
    "\n",
    "learner_trajs = rollout.generate_trajectories(\n",
    "    policy=learner,\n",
    "    venv=test_venv,\n",
    "    sample_until=rollout.make_min_timesteps(5000),\n",
    ")\n",
    "\n",
    "print(\"Learner stats: \", rollout.rollout_stats(expert_trajs))\n"
   ]
  },
  {
   "cell_type": "code",
   "execution_count": 13,
   "metadata": {},
   "outputs": [
    {
     "data": {
      "image/png": "[encoded data removed]",
      "text/plain": [
       "<Figure size 432x288 with 2 Axes>"
      ]
     },
     "metadata": {
      "needs_background": "light"
     },
     "output_type": "display_data"
    }
   ],
   "source": [
    "env.draw_value_vec(om_learner)"
   ]
  }
 ],
 "metadata": {
  "interpreter": {
   "hash": "4eb6f6021eaa6a41c570dcac7c6e3745e29490c2a0ef87cf55459964b53c730a"
  },
  "kernelspec": {
   "display_name": "Python 3.8.13 ('imitation')",
   "language": "python",
   "name": "python3"
  },
  "language_info": {
   "codemirror_mode": {
    "name": "ipython",
    "version": 3
   },
   "file_extension": ".py",
   "mimetype": "text/x-python",
   "name": "python",
   "nbconvert_exporter": "python",
   "pygments_lexer": "ipython3",
   "version": "3.8.13"
  }
 },
 "nbformat": 4,
 "nbformat_minor": 2
}
